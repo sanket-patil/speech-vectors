{
 "cells": [
  {
   "cell_type": "markdown",
   "metadata": {},
   "source": [
    "#### Demo of a simple text query based audio retrieval\n",
    "We have a bunch of labeled audio files. We augment the audio features with embeddings of text labels associated with the audio. Can we then use this simple \"multi-modal representation\" for retrieving sounds that are \"similar\" to a text query?"
   ]
  },
  {
   "cell_type": "code",
   "execution_count": 1,
   "metadata": {
    "collapsed": false
   },
   "outputs": [
    {
     "name": "stderr",
     "output_type": "stream",
     "text": [
      "Using Theano backend.\n"
     ]
    }
   ],
   "source": [
    "import glob\n",
    "from sklearn import metrics\n",
    "from sklearn.datasets.samples_generator import make_blobs\n",
    "import librosa\n",
    "from python_speech_features import mfcc\n",
    "from python_speech_features import logfbank\n",
    "import scipy.io.wavfile as wav\n",
    "import os\n",
    "import numpy as np\n",
    "from gensim.models.keyedvectors import KeyedVectors"
   ]
  },
  {
   "cell_type": "markdown",
   "metadata": {},
   "source": [
    "We use pretrained word embeddings from Google News."
   ]
  },
  {
   "cell_type": "code",
   "execution_count": 15,
   "metadata": {
    "collapsed": true
   },
   "outputs": [],
   "source": [
    "word_embeddings_file = '../data/GoogleNews-vectors-negative300.bin'\n",
    "w2v_model = KeyedVectors.load_word2vec_format(word_embeddings_file, binary=True)"
   ]
  },
  {
   "cell_type": "code",
   "execution_count": 3,
   "metadata": {
    "collapsed": true
   },
   "outputs": [],
   "source": [
    "data_dir = '../data/esc-50'\n",
    "sample_dir = os.path.join(data_dir, 'sample')\n",
    "train_dir = os.path.join(data_dir, 'train')\n",
    "test_dir = os.path.join(data_dir, 'test')"
   ]
  },
  {
   "cell_type": "code",
   "execution_count": 4,
   "metadata": {
    "collapsed": false
   },
   "outputs": [
    {
     "name": "stdout",
     "output_type": "stream",
     "text": [
      "Sound Sample Classes\n",
      "--------------------\n",
      "coughing\n",
      "footsteps\n",
      "insects\n",
      "laughing\n",
      "rooster\n"
     ]
    }
   ],
   "source": [
    "print 'Sound Sample Classes'\n",
    "print '--------------------'\n",
    "for d in os.listdir(sample_dir):\n",
    "    print d"
   ]
  },
  {
   "cell_type": "code",
   "execution_count": 5,
   "metadata": {
    "collapsed": false
   },
   "outputs": [
    {
     "name": "stdout",
     "output_type": "stream",
     "text": [
      "insects 40\n",
      "coughing 40\n",
      "footsteps 40\n",
      "laughing 40\n",
      "rooster 40\n"
     ]
    }
   ],
   "source": [
    "samples_dict = dict()\n",
    "for d in os.listdir(sample_dir):\n",
    "    sample_class_dir = os.path.join(sample_dir, d)\n",
    "    samples_dict[d] = [os.path.join(sample_class_dir, f) for f in os.listdir(sample_class_dir)]\n",
    "for k, v in samples_dict.iteritems():\n",
    "    print k, len(v)"
   ]
  },
  {
   "cell_type": "markdown",
   "metadata": {},
   "source": [
    "Extract audio features as before. But also add word embeddings of the labels."
   ]
  },
  {
   "cell_type": "code",
   "execution_count": 6,
   "metadata": {
    "collapsed": true
   },
   "outputs": [],
   "source": [
    "def extract_feature(file_name):\n",
    "    X, sample_rate = librosa.load(file_name)\n",
    "    np.nan_to_num(X)\n",
    "    stft = np.abs(librosa.stft(X))\n",
    "    mfccs = np.mean(librosa.feature.mfcc(y=X, sr=sample_rate, n_mfcc=40).T,axis=0)\n",
    "    chroma = np.mean(librosa.feature.chroma_stft(S=stft, sr=sample_rate).T,axis=0)\n",
    "    mel = np.mean(librosa.feature.melspectrogram(X, sr=sample_rate).T,axis=0)\n",
    "    contrast = np.mean(librosa.feature.spectral_contrast(S=stft, sr=sample_rate).T,axis=0)\n",
    "    tonnetz = np.mean(librosa.feature.tonnetz(y=librosa.effects.harmonic(X), sr=sample_rate).T,axis=0)\n",
    "    return mfccs,chroma,mel,contrast,tonnetz\n",
    "\n",
    "\n",
    "def build_feature_matrix(parent_dir, sub_dirs, classes, file_ext='*.ogg'):\n",
    "    features, labels = np.empty((0, 493)), np.empty(0)\n",
    "    filenames = list()\n",
    "    for label, sub_dir in enumerate(sub_dirs):\n",
    "        for fn in glob.glob(os.path.join(parent_dir, sub_dir, file_ext)):\n",
    "            mfccs, chroma, mel, contrast,tonnetz = extract_feature(fn)\n",
    "            w2v_features = get_w2v_features(sub_dir)\n",
    "            ext_features = np.hstack([mfccs,chroma,mel,contrast,tonnetz, w2v_features])\n",
    "            features = np.vstack([features,ext_features])\n",
    "            labels = np.append(labels, sub_dir)\n",
    "            filenames.append(fn)\n",
    "    return np.array(features), filenames, labels\n",
    "\n",
    "\n",
    "def get_w2v_features(label):\n",
    "    return w2v_model[label]\n",
    "\n",
    "def one_hot_encode(labels):\n",
    "    n_labels = len(labels)\n",
    "    n_unique_labels = len(np.unique(labels))\n",
    "    one_hot_encode = np.zeros((n_labels, n_unique_labels))\n",
    "    one_hot_encode[np.arange(n_labels), labels] = 1\n",
    "    return one_hot_encode"
   ]
  },
  {
   "cell_type": "code",
   "execution_count": 7,
   "metadata": {
    "collapsed": false
   },
   "outputs": [],
   "source": [
    "sample_dir = os.path.join(data_dir, 'sample')\n",
    "sub_dirs = ['laughing', 'coughing', 'insects', 'rooster', 'crying_baby', 'footsteps']\n",
    "classes = {'laughing': 0, 'coughing': 1, 'insects': 2, 'rooster': 3, 'crying_baby': 4, 'footsteps': 5}\n",
    "\n",
    "if not os.path.exists('sample_sound_features.npy'): \n",
    "    features, filenames, labels = build_feature_matrix(sample_dir, sub_dirs, classes)\n",
    "else:\n",
    "    features = np.load('sample_sound_features.npy')\n",
    "    with open('sample_files.txt') as fp:\n",
    "        filenames = [fn.strip() for fn in fp.readlines()]\n",
    "    with open('sample_labels.txt') as fp:\n",
    "        labels = [lb.strip() for lb in fp.readlines()]"
   ]
  },
  {
   "cell_type": "code",
   "execution_count": 8,
   "metadata": {
    "collapsed": false
   },
   "outputs": [
    {
     "name": "stdout",
     "output_type": "stream",
     "text": [
      "(196, 493)\n",
      "196\n",
      "196\n"
     ]
    }
   ],
   "source": [
    "print features.shape\n",
    "print len(filenames)\n",
    "print len(labels)"
   ]
  },
  {
   "cell_type": "code",
   "execution_count": 9,
   "metadata": {
    "collapsed": true
   },
   "outputs": [],
   "source": [
    "outfile = 'sample_sound_features.npy'\n",
    "np.save(outfile, features)\n",
    "with open('sample_files.txt', 'w') as fp:\n",
    "    fp.write('\\n'.join(filenames))\n",
    "with open('sample_labels.txt', 'w') as fp:\n",
    "    fp.write('\\n'.join(labels))"
   ]
  },
  {
   "cell_type": "markdown",
   "metadata": {},
   "source": [
    "#### PCA after adding word embeddings\n",
    "\n",
    "There is an increase in the explained variance. The plot also shows how the variances have different ranges for different classes."
   ]
  },
  {
   "cell_type": "code",
   "execution_count": 10,
   "metadata": {
    "collapsed": false
   },
   "outputs": [
    {
     "name": "stdout",
     "output_type": "stream",
     "text": [
      "Shape of the transformed feature vector: (196, 5)\n",
      "Original training sample: [-211.95342873967343, 126.77311337329317, -34.790516564858109, -10.512615152990707, -36.476548766848765, -15.265458386539253, -25.452147024852891, -5.373759791325627, -17.113109621494466, 9.623134344549225, -10.928963826555067, -10.522028894620606, -8.9315416259630567, -4.2521794394544665, -10.441037332644855, -7.5970087415701366, -8.8785380383648729, -1.1939344747472949, -7.0908558885145743, 0.76262883957394723, -6.841079475167918, -6.7085224890121546, -4.9157763803929528, -2.7260106406212623, -6.4026770846192411, -2.3801003698167018, -6.0828079226609626, -1.005822607342773, -4.4659888523414537, -1.1620847727575108, -4.0551530678673311, -0.10143759270967795, -5.5333870628773516, -1.0524975933573175, -3.2479466396041592, -1.5511760810055846, -3.3662660397266997, -2.0985671973177058, -3.8624834878166756, -0.23053952005125813, 0.51834445566621268, 0.50731462792430559, 0.54732341782571448, 0.54456663467689226, 0.55724919803408046, 0.63912478985697185, 0.69991761882011527, 0.71094263997045593, 0.70488867331070892, 0.66897406320086661, 0.58024313023707208, 0.54668903682846348, 0.00030898208816695281, 0.0011037863654963064, 0.016088965129742488, 0.048029955612885047, 0.062542814079642906, 0.13947951636564837, 0.23387052426737462, 0.22624280428373164, 0.19506449493940808, 0.29063113954904291, 0.4549219218919513, 0.73933110146098002, 0.69277632511016096, 0.50986683000985145, 0.60366819441108444, 0.80981155644544678, 1.3543601534067828, 1.320178095013623, 1.5462867580937649, 0.95649853417901898, 1.0331258896554507, 1.8075995803564224, 2.6111118874054506, 2.7215665094646804, 3.3259071652120826, 5.0641070479079797, 6.0979488185737845, 7.1051678508019638, 7.535051336622236, 7.6710790670789937, 2.8148214272133782, 2.7522209223856491, 2.5889673357936207, 1.4791161752630282, 1.1608426587244347, 1.2826584912174799, 1.5683734273342689, 1.0036368136086244, 0.72538112258986454, 0.49079046565747814, 0.39725536292546915, 0.31822184116950575, 0.54006440146321222, 0.48064187985263823, 0.34986304285334202, 0.24974973458894739, 0.19838699669755813, 0.17349815778111813, 0.12901942709396025, 0.11860289924781658, 0.15270080616908899, 0.17868360046591006, 0.19715498444407642, 0.21941677772091334, 0.23211492768070943, 0.25149226279331072, 0.18776629751326335, 0.17411642277448908, 0.17889784925497204, 0.096644062036501277, 0.082507450725597647, 0.066139808612824799, 0.05174036781666911, 0.046590424206075565, 0.038960488665702071, 0.038236938679630399, 0.02557265558608306, 0.021394920531427115, 0.016140895581957311, 0.015475472783039103, 0.011011644560546208, 0.010356935038617588, 0.0099145786292644516, 0.011856377501241988, 0.014797492405052352, 0.013112522923081406, 0.015755074069384874, 0.020782871349228575, 0.022437630686839058, 0.021883271850380963, 0.01657473185440838, 0.018241886561177423, 0.022016965476869915, 0.015009248627246756, 0.013437150754335971, 0.0084712427644161557, 0.0078142587165301747, 0.006294118115443466, 0.0046241263855647703, 0.0046417836148709589, 0.0040455707002778384, 0.0035629338770325389, 0.0035737071288845118, 0.0031781355610891746, 0.0022911490950632291, 0.0019606707835456614, 0.0014439297620097654, 0.0012277669175469535, 0.0010700037495356531, 0.0010706933391297537, 0.0012123657109182897, 0.0011216158135388798, 0.0010196895226450143, 0.0013053526270285333, 0.0017245984804699101, 0.0018016985150939903, 0.0016583987379953005, 0.0014503483148989862, 0.0011736064986719386, 0.0011487815179094805, 0.00098804534315929753, 0.00097006047956999658, 0.00076859565645174838, 0.00074170568164964358, 0.00055791487710688448, 0.00056102393166497023, 0.00038626005762788242, 0.00034570871649306054, 0.00029332994200811788, 0.00018045878544668763, 0.00014152537898716433, 0.00012862934087420268, 0.00011241898990175759, 0.00010035055321958268, 8.6017515487433528e-05, 5.7183426737683098e-05, 1.5404341109415376e-05, 1.0205875575903759e-06, 23.027444126555952, 12.259515859469532, 15.806141550857673, 17.774268658297565, 18.162222180882441, 18.832451488517545, 38.495340230619959, 0.0039265619510271983, 0.0031208547093051074, 0.016112377021180464, -0.0033134670188252908, -0.0038187426081049991, -0.0027186458454636149, 0.1279296875, 0.00341796875, 0.1953125, 0.283203125, -0.06787109375, -0.087890625, 0.185546875, 0.08984375, 0.205078125, 0.208984375, 0.16015625, -0.314453125, -0.044677734375, 0.31640625, -0.408203125, 0.162109375, 0.0185546875, 0.228515625, 0.09375, -0.2421875, 0.2177734375, 0.1103515625, 0.049560546875, -0.04931640625, 0.043212890625, -0.1787109375, -0.040283203125, 0.00014591217041015625, 0.1484375, -0.10595703125, -0.353515625, 0.07373046875, -0.05517578125, -0.158203125, 0.099609375, -0.287109375, 0.234375, -0.1396484375, 0.138671875, 0.1494140625, 0.248046875, -0.275390625, 0.267578125, -0.318359375, -0.0419921875, 0.23046875, -0.208984375, -0.10888671875, 0.03857421875, 0.255859375, -0.25390625, -0.027587890625, 0.0859375, 0.12890625, 0.15625, 0.0947265625, 0.0986328125, -0.2490234375, 0.25390625, -0.2275390625, -0.2158203125, 0.1328125, -0.1533203125, 0.181640625, 0.1728515625, 0.12158203125, -0.16015625, -0.1318359375, -0.2412109375, 0.09033203125, 0.09521484375, 0.038818359375, -0.08154296875, 0.271484375, -0.447265625, 0.057861328125, -0.212890625, 0.01361083984375, 0.267578125, 0.1689453125, -0.0869140625, -0.1572265625, 0.07666015625, 0.01806640625, -0.10498046875, 0.0380859375, -0.1396484375, 0.28125, 0.053955078125, -0.049072265625, 0.07861328125, 0.40625, -0.08056640625, 0.041015625, -0.376953125, 0.091796875, 0.2275390625, 0.06201171875, -0.162109375, -0.283203125, -0.255859375, -0.0595703125, 0.08984375, 0.017578125, 0.0152587890625, 0.140625, 0.21484375, -0.0908203125, 0.010986328125, -0.1748046875, -0.033203125, -0.12060546875, 0.054931640625, -0.0556640625, 0.06787109375, -0.208984375, 0.0166015625, -0.025634765625, 0.095703125, -0.2197265625, -0.1845703125, 0.138671875, -0.028076171875, -0.140625, -0.134765625, -0.3046875, -0.2734375, 0.0037384033203125, -0.05126953125, 0.10595703125, -0.3671875, 0.08984375, -0.35546875, -0.000835418701171875, -0.234375, -0.0400390625, 0.10986328125, 0.0184326171875, -0.057861328125, -0.058837890625, 0.224609375, -0.2080078125, 0.23828125, -0.208984375, 0.03271484375, 0.1396484375, -0.099609375, -0.271484375, 0.1953125, -0.1591796875, 0.03173828125, 0.337890625, -0.1611328125, 0.1533203125, 0.0400390625, 0.1259765625, -0.26953125, -0.10302734375, -0.032958984375, -0.030517578125, -0.087890625, 0.1962890625, 0.2109375, 0.0211181640625, -7.343292236328125e-05, -0.11376953125, -0.07177734375, -0.048828125, 0.158203125, 0.10693359375, 0.04052734375, -0.181640625, 0.1572265625, 0.2236328125, -0.10205078125, 0.052978515625, -0.0888671875, -0.1826171875, 0.123046875, -0.040771484375, 0.1552734375, -0.029541015625, 0.08349609375, 0.0284423828125, -0.000789642333984375, 0.025390625, -0.2236328125, -0.06103515625, -0.189453125, -0.10302734375, 0.2158203125, -0.22265625, 0.031982421875, 0.2578125, 0.01953125, 0.251953125, -0.1943359375, 0.1318359375, -0.068359375, -0.11669921875, -0.08935546875, 0.10546875, -0.193359375, -0.05322265625, 0.10546875, -0.0048828125, -0.0133056640625, 0.25390625, -0.232421875, -0.0208740234375, 0.1787109375, -0.0269775390625, 0.09423828125, 0.06591796875, -0.095703125, 0.208984375, -0.1982421875, 0.09521484375, 0.150390625, 0.08837890625, 0.15625, 0.328125, 0.2353515625, 0.040283203125, 0.053466796875, 0.15625, 0.1171875, 0.038818359375, -0.11474609375, -0.07373046875, 0.0009765625, -0.07421875, -0.12451171875, 0.1533203125, 0.07861328125, -0.2041015625, 0.051025390625, 0.06884765625, 0.162109375, 0.0908203125, 0.0301513671875, 0.2353515625, -0.55859375, 0.048828125, -0.05810546875, 0.1875, 0.09814453125, -0.015625, 0.2890625, -0.2216796875, -0.09375, 0.16015625, 0.2314453125, 0.2890625, 0.08251953125, -0.06640625, -0.251953125, 0.11328125, -0.020751953125, -0.08447265625, -0.2890625, 0.1044921875, 0.07666015625, 0.052734375, -0.07958984375, 0.2431640625, 0.25390625, 0.10546875, 0.05517578125, -0.15625, -0.166015625, 0.302734375, 0.224609375, 0.010009765625, 0.11181640625, -0.031494140625, -0.1181640625, 0.11767578125, -0.1005859375, -0.2890625, 0.27734375, 0.0654296875, -0.04052734375, -0.047607421875, 0.01007080078125, -0.24609375, 0.1669921875, 0.193359375, 0.32421875, -0.10009765625, 0.0732421875, 0.21875, -0.10595703125, -0.2294921875, -0.236328125, 0.06005859375, 0.0140380859375, -0.08544921875, 0.1611328125, 0.033203125]\n",
      "Training sample after PCA: [-5.3770980297690212, 3.7704776602022045, -4.3937515182962494, -13.532921497259064, 0.54073212906330181]\n",
      "\n",
      "\n",
      "Explained variance ratio (first five components)\n",
      "------------------------------------------------\n",
      "Principal Component 0 : 0.206933327237\n",
      "Principal Component 1 : 0.185554212761\n",
      "Principal Component 2 : 0.150936390477\n",
      "Principal Component 3 : 0.121738803392\n",
      "Principal Component 4 : 0.0609150075334\n"
     ]
    }
   ],
   "source": [
    "from sklearn.decomposition import PCA\n",
    "from sklearn import preprocessing\n",
    "import pandas as pd\n",
    "\n",
    "features_df = pd.DataFrame(features)\n",
    "data_scaled = pd.DataFrame(preprocessing.scale(features_df), columns=features_df.columns)\n",
    "pca = PCA(n_components=5)\n",
    "pca_results = pca.fit_transform(data_scaled)\n",
    "\n",
    "print 'Shape of the transformed feature vector:', pca_results.shape\n",
    "print 'Original training sample:', list(features_df.loc[0].values)\n",
    "print 'Training sample after PCA:', list(pca_results[0])\n",
    "print '\\n'\n",
    "# Percentage of variance explained for each components\n",
    "print 'Explained variance ratio (first five components)'\n",
    "print '------------------------------------------------'\n",
    "for idx, r in enumerate(pca.explained_variance_ratio_):\n",
    "    print 'Principal Component', idx, ':', r "
   ]
  },
  {
   "cell_type": "code",
   "execution_count": 11,
   "metadata": {
    "collapsed": false
   },
   "outputs": [
    {
     "name": "stderr",
     "output_type": "stream",
     "text": [
      "/Users/sanket/anaconda/lib/python2.7/site-packages/ggplot/utils.py:81: FutureWarning: pandas.tslib is deprecated and will be removed in a future version.\n",
      "You can access Timestamp as pandas.Timestamp\n",
      "  pd.tslib.Timestamp,\n",
      "/Users/sanket/anaconda/lib/python2.7/site-packages/ggplot/stats/smoothers.py:4: FutureWarning: The pandas.lib module is deprecated and will be removed in a future version. These are private functions and can be accessed from pandas._libs.lib instead\n",
      "  from pandas.lib import Timestamp\n",
      "/Users/sanket/anaconda/lib/python2.7/site-packages/statsmodels/compat/pandas.py:56: FutureWarning: The pandas.core.datetools module is deprecated and will be removed in a future version. Please use the pandas.tseries module instead.\n",
      "  from pandas.core import datetools\n"
     ]
    },
    {
     "data": {
      "image/png": "[encoded data removed]",
      "text/plain": [
       "<matplotlib.figure.Figure at 0x116fc6d50>"
      ]
     },
     "metadata": {},
     "output_type": "display_data"
    },
    {
     "data": {
      "text/plain": [
       "<ggplot: (296064793)>"
      ]
     },
     "execution_count": 11,
     "metadata": {},
     "output_type": "execute_result"
    }
   ],
   "source": [
    "from ggplot import *\n",
    "\n",
    "df_pca = features_df.copy()\n",
    "df_pca['x-pca'] = pca_results[:,0]\n",
    "df_pca['y-pca'] = pca_results[:,1]\n",
    "df_pca['label'] = labels\n",
    "chart = ggplot( df_pca, aes(x='x-pca', y='y-pca', color='label') ) \\\n",
    "        + geom_point(size=75,alpha=0.8) \\\n",
    "        + ggtitle(\"First and Second Principal Components colored by class label\")\n",
    "chart"
   ]
  },
  {
   "cell_type": "code",
   "execution_count": 12,
   "metadata": {
    "collapsed": true
   },
   "outputs": [],
   "source": [
    "from sklearn.metrics.pairwise import cosine_similarity\n",
    "import IPython.display"
   ]
  },
  {
   "cell_type": "code",
   "execution_count": 13,
   "metadata": {
    "collapsed": true
   },
   "outputs": [],
   "source": [
    "queries = ['laugh', 'chuckle', 'joke', 'walking', 'run', \n",
    "           'jogging', 'cough', 'throat', 'mosquito', 'wasp',\n",
    "           'bees', 'parrot', 'cockarel', 'crowing']"
   ]
  },
  {
   "cell_type": "code",
   "execution_count": 14,
   "metadata": {
    "collapsed": false
   },
   "outputs": [
    {
     "ename": "NameError",
     "evalue": "global name 'w2v_model' is not defined",
     "output_type": "error",
     "traceback": [
      "\u001b[0;31m---------------------------------------------------------------------------\u001b[0m",
      "\u001b[0;31mNameError\u001b[0m                                 Traceback (most recent call last)",
      "\u001b[0;32m<ipython-input-14-6d0e9463fd0a>\u001b[0m in \u001b[0;36m<module>\u001b[0;34m()\u001b[0m\n\u001b[1;32m      1\u001b[0m \u001b[0mquery\u001b[0m \u001b[0;34m=\u001b[0m \u001b[0;34m'laugh'\u001b[0m\u001b[0;34m\u001b[0m\u001b[0m\n\u001b[0;32m----> 2\u001b[0;31m \u001b[0mquery_features\u001b[0m \u001b[0;34m=\u001b[0m \u001b[0mnp\u001b[0m\u001b[0;34m.\u001b[0m\u001b[0mappend\u001b[0m\u001b[0;34m(\u001b[0m\u001b[0mnp\u001b[0m\u001b[0;34m.\u001b[0m\u001b[0mzeros\u001b[0m\u001b[0;34m(\u001b[0m\u001b[0;36m193\u001b[0m\u001b[0;34m)\u001b[0m\u001b[0;34m,\u001b[0m \u001b[0mget_w2v_features\u001b[0m\u001b[0;34m(\u001b[0m\u001b[0mquery\u001b[0m\u001b[0;34m)\u001b[0m\u001b[0;34m)\u001b[0m\u001b[0;34m\u001b[0m\u001b[0m\n\u001b[0m\u001b[1;32m      3\u001b[0m \u001b[0midx\u001b[0m \u001b[0;34m=\u001b[0m \u001b[0mnp\u001b[0m\u001b[0;34m.\u001b[0m\u001b[0margmax\u001b[0m\u001b[0;34m(\u001b[0m\u001b[0mcosine_similarity\u001b[0m\u001b[0;34m(\u001b[0m\u001b[0mfeatures\u001b[0m\u001b[0;34m,\u001b[0m \u001b[0mquery_features\u001b[0m\u001b[0;34m.\u001b[0m\u001b[0mreshape\u001b[0m\u001b[0;34m(\u001b[0m\u001b[0;36m1\u001b[0m\u001b[0;34m,\u001b[0m \u001b[0;34m-\u001b[0m\u001b[0;36m1\u001b[0m\u001b[0;34m)\u001b[0m\u001b[0;34m,\u001b[0m \u001b[0mdense_output\u001b[0m\u001b[0;34m=\u001b[0m\u001b[0mTrue\u001b[0m\u001b[0;34m)\u001b[0m\u001b[0;34m)\u001b[0m\u001b[0;34m\u001b[0m\u001b[0m\n\u001b[1;32m      4\u001b[0m \u001b[0mresult\u001b[0m \u001b[0;34m=\u001b[0m \u001b[0mfilenames\u001b[0m\u001b[0;34m[\u001b[0m\u001b[0midx\u001b[0m\u001b[0;34m]\u001b[0m\u001b[0;34m\u001b[0m\u001b[0m\n\u001b[1;32m      5\u001b[0m \u001b[0;32mprint\u001b[0m \u001b[0;34m'Matching class:'\u001b[0m\u001b[0;34m,\u001b[0m \u001b[0mlabels\u001b[0m\u001b[0;34m[\u001b[0m\u001b[0midx\u001b[0m\u001b[0;34m]\u001b[0m\u001b[0;34m\u001b[0m\u001b[0m\n",
      "\u001b[0;32m<ipython-input-6-f04f1602cab1>\u001b[0m in \u001b[0;36mget_w2v_features\u001b[0;34m(label)\u001b[0m\n\u001b[1;32m     26\u001b[0m \u001b[0;34m\u001b[0m\u001b[0m\n\u001b[1;32m     27\u001b[0m \u001b[0;32mdef\u001b[0m \u001b[0mget_w2v_features\u001b[0m\u001b[0;34m(\u001b[0m\u001b[0mlabel\u001b[0m\u001b[0;34m)\u001b[0m\u001b[0;34m:\u001b[0m\u001b[0;34m\u001b[0m\u001b[0m\n\u001b[0;32m---> 28\u001b[0;31m     \u001b[0;32mreturn\u001b[0m \u001b[0mw2v_model\u001b[0m\u001b[0;34m[\u001b[0m\u001b[0mlabel\u001b[0m\u001b[0;34m]\u001b[0m\u001b[0;34m\u001b[0m\u001b[0m\n\u001b[0m\u001b[1;32m     29\u001b[0m \u001b[0;34m\u001b[0m\u001b[0m\n\u001b[1;32m     30\u001b[0m \u001b[0;32mdef\u001b[0m \u001b[0mone_hot_encode\u001b[0m\u001b[0;34m(\u001b[0m\u001b[0mlabels\u001b[0m\u001b[0;34m)\u001b[0m\u001b[0;34m:\u001b[0m\u001b[0;34m\u001b[0m\u001b[0m\n",
      "\u001b[0;31mNameError\u001b[0m: global name 'w2v_model' is not defined"
     ]
    }
   ],
   "source": [
    "query = 'laugh'\n",
    "query_features = np.append(np.zeros(193), get_w2v_features(query))\n",
    "idx = np.argmax(cosine_similarity(features, query_features.reshape(1, -1), dense_output=True))\n",
    "result = filenames[idx]\n",
    "print 'Matching class:', labels[idx]\n",
    "IPython.display.Audio(result, embed=True, autoplay=True)"
   ]
  },
  {
   "cell_type": "code",
   "execution_count": 26,
   "metadata": {
    "collapsed": false
   },
   "outputs": [
    {
     "name": "stdout",
     "output_type": "stream",
     "text": [
      "Matching class: laughing\n"
     ]
    },
    {
     "data": {
      "text/html": [
       "\n",
       "                <audio controls=\"controls\" >\n",
       "                    <source src=\"data:audio/wav;base64,Li4vZGF0YS9lc2MtNTAvc2FtcGxlL2xhdWdoaW5nLzEtMzAwMzktQS5vZ2c=\" type=\"audio/wav\" />\n",
       "                    Your browser does not support the audio element.\n",
       "                </audio>\n",
       "              "
      ],
      "text/plain": [
       "<IPython.lib.display.Audio object>"
      ]
     },
     "execution_count": 26,
     "metadata": {},
     "output_type": "execute_result"
    }
   ],
   "source": [
    "query = 'chuckling'\n",
    "query_features = np.append(np.zeros(193), get_w2v_features(query))\n",
    "idx = np.argmax(cosine_similarity(features, query_features.reshape(1, -1), dense_output=True))\n",
    "result = filenames[idx]\n",
    "print 'Matching class:', labels[idx]\n",
    "IPython.display.Audio(result, embed=True)"
   ]
  },
  {
   "cell_type": "code",
   "execution_count": 27,
   "metadata": {
    "collapsed": false
   },
   "outputs": [
    {
     "name": "stdout",
     "output_type": "stream",
     "text": [
      "Matching class: laughing\n"
     ]
    },
    {
     "data": {
      "text/html": [
       "\n",
       "                <audio controls=\"controls\" autoplay=\"autoplay\">\n",
       "                    <source src=\"data:audio/wav;base64,Li4vZGF0YS9lc2MtNTAvc2FtcGxlL2xhdWdoaW5nLzEtMzAwMzktQS5vZ2c=\" type=\"audio/wav\" />\n",
       "                    Your browser does not support the audio element.\n",
       "                </audio>\n",
       "              "
      ],
      "text/plain": [
       "<IPython.lib.display.Audio object>"
      ]
     },
     "execution_count": 27,
     "metadata": {},
     "output_type": "execute_result"
    }
   ],
   "source": [
    "query = 'joke'\n",
    "query_features = np.append(np.zeros(193), get_w2v_features(query))\n",
    "idx = np.argmax(cosine_similarity(features, query_features.reshape(1, -1), dense_output=True))\n",
    "result = filenames[idx]\n",
    "print 'Matching class:', labels[idx]\n",
    "IPython.display.Audio(result, embed=True, autoplay=True)"
   ]
  },
  {
   "cell_type": "code",
   "execution_count": 28,
   "metadata": {
    "collapsed": false
   },
   "outputs": [
    {
     "name": "stdout",
     "output_type": "stream",
     "text": [
      "Matching class: footsteps\n"
     ]
    },
    {
     "data": {
      "text/html": [
       "\n",
       "                <audio controls=\"controls\" autoplay=\"autoplay\">\n",
       "                    <source src=\"data:audio/wav;base64,Li4vZGF0YS9lc2MtNTAvc2FtcGxlL2Zvb3RzdGVwcy8zLTk0MzQyLUEub2dn\" type=\"audio/wav\" />\n",
       "                    Your browser does not support the audio element.\n",
       "                </audio>\n",
       "              "
      ],
      "text/plain": [
       "<IPython.lib.display.Audio object>"
      ]
     },
     "execution_count": 28,
     "metadata": {},
     "output_type": "execute_result"
    }
   ],
   "source": [
    "query = 'walking'\n",
    "query_features = np.append(np.zeros(193), get_w2v_features(query))\n",
    "idx = np.argmax(cosine_similarity(features, query_features.reshape(1, -1), dense_output=True))\n",
    "result = filenames[idx]\n",
    "print 'Matching class:', labels[idx]\n",
    "IPython.display.Audio(result, embed=True, autoplay=True)"
   ]
  },
  {
   "cell_type": "code",
   "execution_count": 29,
   "metadata": {
    "collapsed": false
   },
   "outputs": [
    {
     "name": "stdout",
     "output_type": "stream",
     "text": [
      "Matching class: footsteps\n"
     ]
    },
    {
     "data": {
      "text/html": [
       "\n",
       "                <audio controls=\"controls\" autoplay=\"autoplay\">\n",
       "                    <source src=\"data:audio/wav;base64,Li4vZGF0YS9lc2MtNTAvc2FtcGxlL2Zvb3RzdGVwcy8zLTk0MzQyLUEub2dn\" type=\"audio/wav\" />\n",
       "                    Your browser does not support the audio element.\n",
       "                </audio>\n",
       "              "
      ],
      "text/plain": [
       "<IPython.lib.display.Audio object>"
      ]
     },
     "execution_count": 29,
     "metadata": {},
     "output_type": "execute_result"
    }
   ],
   "source": [
    "query = 'run'\n",
    "query_features = np.append(np.zeros(193), get_w2v_features(query))\n",
    "idx = np.argmax(cosine_similarity(features, query_features.reshape(1, -1), dense_output=True))\n",
    "result = filenames[idx]\n",
    "print 'Matching class:', labels[idx]\n",
    "IPython.display.Audio(result, embed=True, autoplay=True)"
   ]
  },
  {
   "cell_type": "code",
   "execution_count": 30,
   "metadata": {
    "collapsed": false
   },
   "outputs": [
    {
     "name": "stdout",
     "output_type": "stream",
     "text": [
      "Matching class: footsteps\n"
     ]
    },
    {
     "data": {
      "text/html": [
       "\n",
       "                <audio controls=\"controls\" autoplay=\"autoplay\">\n",
       "                    <source src=\"data:audio/wav;base64,Li4vZGF0YS9lc2MtNTAvc2FtcGxlL2Zvb3RzdGVwcy8zLTk0MzQyLUEub2dn\" type=\"audio/wav\" />\n",
       "                    Your browser does not support the audio element.\n",
       "                </audio>\n",
       "              "
      ],
      "text/plain": [
       "<IPython.lib.display.Audio object>"
      ]
     },
     "execution_count": 30,
     "metadata": {},
     "output_type": "execute_result"
    }
   ],
   "source": [
    "query = 'jogging'\n",
    "query_features = np.append(np.zeros(193), get_w2v_features(query))\n",
    "idx = np.argmax(cosine_similarity(features, query_features.reshape(1, -1), dense_output=True))\n",
    "result = filenames[idx]\n",
    "print 'Matching class:', labels[idx]\n",
    "IPython.display.Audio(result, embed=True, autoplay=True)"
   ]
  },
  {
   "cell_type": "code",
   "execution_count": 31,
   "metadata": {
    "collapsed": false
   },
   "outputs": [
    {
     "name": "stdout",
     "output_type": "stream",
     "text": [
      "Matching class: coughing\n"
     ]
    },
    {
     "data": {
      "text/html": [
       "\n",
       "                <audio controls=\"controls\" autoplay=\"autoplay\">\n",
       "                    <source src=\"data:audio/wav;base64,Li4vZGF0YS9lc2MtNTAvc2FtcGxlL2NvdWdoaW5nLzQtMTU3Mjk2LUEub2dn\" type=\"audio/wav\" />\n",
       "                    Your browser does not support the audio element.\n",
       "                </audio>\n",
       "              "
      ],
      "text/plain": [
       "<IPython.lib.display.Audio object>"
      ]
     },
     "execution_count": 31,
     "metadata": {},
     "output_type": "execute_result"
    }
   ],
   "source": [
    "query = 'cough'\n",
    "query_features = np.append(np.zeros(193), get_w2v_features(query))\n",
    "idx = np.argmax(cosine_similarity(features, query_features.reshape(1, -1), dense_output=True))\n",
    "result = filenames[idx]\n",
    "print 'Matching class:', labels[idx]\n",
    "IPython.display.Audio(result, embed=True, autoplay=True)"
   ]
  },
  {
   "cell_type": "code",
   "execution_count": 32,
   "metadata": {
    "collapsed": false
   },
   "outputs": [
    {
     "name": "stdout",
     "output_type": "stream",
     "text": [
      "Matching class: coughing\n"
     ]
    },
    {
     "data": {
      "text/html": [
       "\n",
       "                <audio controls=\"controls\" autoplay=\"autoplay\">\n",
       "                    <source src=\"data:audio/wav;base64,Li4vZGF0YS9lc2MtNTAvc2FtcGxlL2NvdWdoaW5nLzQtMTU3Mjk2LUEub2dn\" type=\"audio/wav\" />\n",
       "                    Your browser does not support the audio element.\n",
       "                </audio>\n",
       "              "
      ],
      "text/plain": [
       "<IPython.lib.display.Audio object>"
      ]
     },
     "execution_count": 32,
     "metadata": {},
     "output_type": "execute_result"
    }
   ],
   "source": [
    "query = 'throat'\n",
    "query_features = np.append(np.zeros(193), get_w2v_features(query))\n",
    "idx = np.argmax(cosine_similarity(features, query_features.reshape(1, -1), dense_output=True))\n",
    "result = filenames[idx]\n",
    "print 'Matching class:', labels[idx]\n",
    "IPython.display.Audio(result, embed=True, autoplay=True)"
   ]
  },
  {
   "cell_type": "code",
   "execution_count": 33,
   "metadata": {
    "collapsed": false
   },
   "outputs": [
    {
     "name": "stdout",
     "output_type": "stream",
     "text": [
      "Matching class: insects\n"
     ]
    },
    {
     "data": {
      "text/html": [
       "\n",
       "                <audio controls=\"controls\" autoplay=\"autoplay\">\n",
       "                    <source src=\"data:audio/wav;base64,Li4vZGF0YS9lc2MtNTAvc2FtcGxlL2luc2VjdHMvNS0xOTgyNzgtQS5vZ2c=\" type=\"audio/wav\" />\n",
       "                    Your browser does not support the audio element.\n",
       "                </audio>\n",
       "              "
      ],
      "text/plain": [
       "<IPython.lib.display.Audio object>"
      ]
     },
     "execution_count": 33,
     "metadata": {},
     "output_type": "execute_result"
    }
   ],
   "source": [
    "query = 'mosquito'\n",
    "query_features = np.append(np.zeros(193), get_w2v_features(query))\n",
    "idx = np.argmax(cosine_similarity(features, query_features.reshape(1, -1), dense_output=True))\n",
    "result = filenames[idx]\n",
    "print 'Matching class:', labels[idx]\n",
    "IPython.display.Audio(result, embed=True, autoplay=True)"
   ]
  },
  {
   "cell_type": "code",
   "execution_count": 34,
   "metadata": {
    "collapsed": false
   },
   "outputs": [
    {
     "name": "stdout",
     "output_type": "stream",
     "text": [
      "Matching class: insects\n"
     ]
    },
    {
     "data": {
      "text/html": [
       "\n",
       "                <audio controls=\"controls\" autoplay=\"autoplay\">\n",
       "                    <source src=\"data:audio/wav;base64,Li4vZGF0YS9lc2MtNTAvc2FtcGxlL2luc2VjdHMvNS0xOTgyNzgtQS5vZ2c=\" type=\"audio/wav\" />\n",
       "                    Your browser does not support the audio element.\n",
       "                </audio>\n",
       "              "
      ],
      "text/plain": [
       "<IPython.lib.display.Audio object>"
      ]
     },
     "execution_count": 34,
     "metadata": {},
     "output_type": "execute_result"
    }
   ],
   "source": [
    "query = 'wasp'\n",
    "query_features = np.append(np.zeros(193), get_w2v_features(query))\n",
    "idx = np.argmax(cosine_similarity(features, query_features.reshape(1, -1), dense_output=True))\n",
    "result = filenames[idx]\n",
    "print 'Matching class:', labels[idx]\n",
    "IPython.display.Audio(result, embed=True, autoplay=True)"
   ]
  },
  {
   "cell_type": "code",
   "execution_count": 35,
   "metadata": {
    "collapsed": false
   },
   "outputs": [
    {
     "name": "stdout",
     "output_type": "stream",
     "text": [
      "Matching class: insects\n"
     ]
    },
    {
     "data": {
      "text/html": [
       "\n",
       "                <audio controls=\"controls\" autoplay=\"autoplay\">\n",
       "                    <source src=\"data:audio/wav;base64,Li4vZGF0YS9lc2MtNTAvc2FtcGxlL2luc2VjdHMvNS0xOTgyNzgtQS5vZ2c=\" type=\"audio/wav\" />\n",
       "                    Your browser does not support the audio element.\n",
       "                </audio>\n",
       "              "
      ],
      "text/plain": [
       "<IPython.lib.display.Audio object>"
      ]
     },
     "execution_count": 35,
     "metadata": {},
     "output_type": "execute_result"
    }
   ],
   "source": [
    "query = 'bees'\n",
    "query_features = np.append(np.zeros(193), get_w2v_features(query))\n",
    "idx = np.argmax(cosine_similarity(features, query_features.reshape(1, -1), dense_output=True))\n",
    "result = filenames[idx]\n",
    "print 'Matching class:', labels[idx]\n",
    "IPython.display.Audio(result, embed=True, autoplay=True)"
   ]
  },
  {
   "cell_type": "code",
   "execution_count": 36,
   "metadata": {
    "collapsed": false
   },
   "outputs": [
    {
     "name": "stdout",
     "output_type": "stream",
     "text": [
      "Matching class: insects\n"
     ]
    },
    {
     "data": {
      "text/html": [
       "\n",
       "                <audio controls=\"controls\" autoplay=\"autoplay\">\n",
       "                    <source src=\"data:audio/wav;base64,Li4vZGF0YS9lc2MtNTAvc2FtcGxlL2luc2VjdHMvNS0xOTgyNzgtQS5vZ2c=\" type=\"audio/wav\" />\n",
       "                    Your browser does not support the audio element.\n",
       "                </audio>\n",
       "              "
      ],
      "text/plain": [
       "<IPython.lib.display.Audio object>"
      ]
     },
     "execution_count": 36,
     "metadata": {},
     "output_type": "execute_result"
    }
   ],
   "source": [
    "query = 'parrot'\n",
    "query_features = np.append(np.zeros(193), get_w2v_features(query))\n",
    "idx = np.argmax(cosine_similarity(features, query_features.reshape(1, -1), dense_output=True))\n",
    "result = filenames[idx]\n",
    "print 'Matching class:', labels[idx]\n",
    "IPython.display.Audio(result, embed=True, autoplay=True)"
   ]
  },
  {
   "cell_type": "code",
   "execution_count": 37,
   "metadata": {
    "collapsed": false
   },
   "outputs": [
    {
     "name": "stdout",
     "output_type": "stream",
     "text": [
      "Matching class: rooster\n"
     ]
    },
    {
     "data": {
      "text/html": [
       "\n",
       "                <audio controls=\"controls\" autoplay=\"autoplay\">\n",
       "                    <source src=\"data:audio/wav;base64,Li4vZGF0YS9lc2MtNTAvc2FtcGxlL3Jvb3N0ZXIvMS00MDczMC1BLm9nZw==\" type=\"audio/wav\" />\n",
       "                    Your browser does not support the audio element.\n",
       "                </audio>\n",
       "              "
      ],
      "text/plain": [
       "<IPython.lib.display.Audio object>"
      ]
     },
     "execution_count": 37,
     "metadata": {},
     "output_type": "execute_result"
    }
   ],
   "source": [
    "query = 'cock'\n",
    "query_features = np.append(np.zeros(193), get_w2v_features(query))\n",
    "idx = np.argmax(cosine_similarity(features, query_features.reshape(1, -1), dense_output=True))\n",
    "result = filenames[idx]\n",
    "print 'Matching class:', labels[idx]\n",
    "IPython.display.Audio(result, embed=True, autoplay=True)"
   ]
  },
  {
   "cell_type": "code",
   "execution_count": 38,
   "metadata": {
    "collapsed": false
   },
   "outputs": [
    {
     "name": "stdout",
     "output_type": "stream",
     "text": [
      "Matching class: insects\n"
     ]
    },
    {
     "data": {
      "text/html": [
       "\n",
       "                <audio controls=\"controls\" autoplay=\"autoplay\">\n",
       "                    <source src=\"data:audio/wav;base64,Li4vZGF0YS9lc2MtNTAvc2FtcGxlL2luc2VjdHMvNS0xOTgyNzgtQS5vZ2c=\" type=\"audio/wav\" />\n",
       "                    Your browser does not support the audio element.\n",
       "                </audio>\n",
       "              "
      ],
      "text/plain": [
       "<IPython.lib.display.Audio object>"
      ]
     },
     "execution_count": 38,
     "metadata": {},
     "output_type": "execute_result"
    }
   ],
   "source": [
    "query = 'buzzing'\n",
    "query_features = np.append(np.zeros(193), get_w2v_features(query))\n",
    "idx = np.argmax(cosine_similarity(features, query_features.reshape(1, -1), dense_output=True))\n",
    "result = filenames[idx]\n",
    "print 'Matching class:', labels[idx]\n",
    "IPython.display.Audio(result, embed=True, autoplay=True)"
   ]
  },
  {
   "cell_type": "code",
   "execution_count": 2,
   "metadata": {
    "collapsed": false
   },
   "outputs": [
    {
     "ename": "NameError",
     "evalue": "name 'get_w2v_features' is not defined",
     "output_type": "error",
     "traceback": [
      "\u001b[0;31m---------------------------------------------------------------------------\u001b[0m",
      "\u001b[0;31mNameError\u001b[0m                                 Traceback (most recent call last)",
      "\u001b[0;32m<ipython-input-2-c9aee6dbf31b>\u001b[0m in \u001b[0;36m<module>\u001b[0;34m()\u001b[0m\n\u001b[1;32m      1\u001b[0m \u001b[0mquery\u001b[0m \u001b[0;34m=\u001b[0m \u001b[0;34m'wheezing'\u001b[0m\u001b[0;34m\u001b[0m\u001b[0m\n\u001b[0;32m----> 2\u001b[0;31m \u001b[0mquery_features\u001b[0m \u001b[0;34m=\u001b[0m \u001b[0mnp\u001b[0m\u001b[0;34m.\u001b[0m\u001b[0mappend\u001b[0m\u001b[0;34m(\u001b[0m\u001b[0mnp\u001b[0m\u001b[0;34m.\u001b[0m\u001b[0mzeros\u001b[0m\u001b[0;34m(\u001b[0m\u001b[0;36m193\u001b[0m\u001b[0;34m)\u001b[0m\u001b[0;34m,\u001b[0m \u001b[0mget_w2v_features\u001b[0m\u001b[0;34m(\u001b[0m\u001b[0mquery\u001b[0m\u001b[0;34m)\u001b[0m\u001b[0;34m)\u001b[0m\u001b[0;34m\u001b[0m\u001b[0m\n\u001b[0m\u001b[1;32m      3\u001b[0m \u001b[0midx\u001b[0m \u001b[0;34m=\u001b[0m \u001b[0mnp\u001b[0m\u001b[0;34m.\u001b[0m\u001b[0margmax\u001b[0m\u001b[0;34m(\u001b[0m\u001b[0mcosine_similarity\u001b[0m\u001b[0;34m(\u001b[0m\u001b[0mfeatures\u001b[0m\u001b[0;34m,\u001b[0m \u001b[0mquery_features\u001b[0m\u001b[0;34m.\u001b[0m\u001b[0mreshape\u001b[0m\u001b[0;34m(\u001b[0m\u001b[0;36m1\u001b[0m\u001b[0;34m,\u001b[0m \u001b[0;34m-\u001b[0m\u001b[0;36m1\u001b[0m\u001b[0;34m)\u001b[0m\u001b[0;34m,\u001b[0m \u001b[0mdense_output\u001b[0m\u001b[0;34m=\u001b[0m\u001b[0mTrue\u001b[0m\u001b[0;34m)\u001b[0m\u001b[0;34m)\u001b[0m\u001b[0;34m\u001b[0m\u001b[0m\n\u001b[1;32m      4\u001b[0m \u001b[0mresult\u001b[0m \u001b[0;34m=\u001b[0m \u001b[0mfilenames\u001b[0m\u001b[0;34m[\u001b[0m\u001b[0midx\u001b[0m\u001b[0;34m]\u001b[0m\u001b[0;34m\u001b[0m\u001b[0m\n\u001b[1;32m      5\u001b[0m \u001b[0;32mprint\u001b[0m \u001b[0;34m'Matching class:'\u001b[0m\u001b[0;34m,\u001b[0m \u001b[0mlabels\u001b[0m\u001b[0;34m[\u001b[0m\u001b[0midx\u001b[0m\u001b[0;34m]\u001b[0m\u001b[0;34m\u001b[0m\u001b[0m\n",
      "\u001b[0;31mNameError\u001b[0m: name 'get_w2v_features' is not defined"
     ]
    }
   ],
   "source": [
    "query = 'wheezing'\n",
    "query_features = np.append(np.zeros(193), get_w2v_features(query))\n",
    "idx = np.argmax(cosine_similarity(features, query_features.reshape(1, -1), dense_output=True))\n",
    "result = filenames[idx]\n",
    "print 'Matching class:', labels[idx]\n",
    "IPython.display.Audio(result, embed=True, autoplay=True)"
   ]
  },
  {
   "cell_type": "code",
   "execution_count": null,
   "metadata": {
    "collapsed": true
   },
   "outputs": [],
   "source": []
  }
 ],
 "metadata": {
  "anaconda-cloud": {},
  "kernelspec": {
   "display_name": "Python [default]",
   "language": "python",
   "name": "python2"
  },
  "language_info": {
   "codemirror_mode": {
    "name": "ipython",
    "version": 2
   },
   "file_extension": ".py",
   "mimetype": "text/x-python",
   "name": "python",
   "nbconvert_exporter": "python",
   "pygments_lexer": "ipython2",
   "version": "2.7.12"
  }
 },
 "nbformat": 4,
 "nbformat_minor": 2
}
