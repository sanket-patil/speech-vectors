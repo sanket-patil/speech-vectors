{
 "cells": [
  {
   "cell_type": "code",
   "execution_count": 123,
   "metadata": {
    "collapsed": true
   },
   "outputs": [],
   "source": [
    "from sklearn.cluster import KMeans, AffinityPropagation, SpectralClustering\n",
    "from sklearn import metrics\n",
    "from sklearn.datasets.samples_generator import make_blobs\n",
    "import librosa"
   ]
  },
  {
   "cell_type": "code",
   "execution_count": 124,
   "metadata": {},
   "outputs": [],
   "source": [
    "from python_speech_features import mfcc\n",
    "from python_speech_features import logfbank\n",
    "import scipy.io.wavfile as wav\n",
    "import os\n",
    "import numpy as np"
   ]
  },
  {
   "cell_type": "code",
   "execution_count": 125,
   "metadata": {},
   "outputs": [],
   "source": [
    "data_dir = '../data/esc-50'\n",
    "sample_dir = os.path.join(data_dir, 'sample')\n",
    "train_dir = os.path.join(data_dir, 'train')\n",
    "test_dir = os.path.join(data_dir, 'test')"
   ]
  },
  {
   "cell_type": "code",
   "execution_count": 126,
   "metadata": {},
   "outputs": [
    {
     "name": "stdout",
     "output_type": "stream",
     "text": [
      "Sound Sample Classes\n",
      "--------------------\n",
      "rooster\n",
      "coughing\n",
      "insects\n",
      "laughing\n"
     ]
    }
   ],
   "source": [
    "print 'Sound Sample Classes'\n",
    "print '--------------------'\n",
    "for d in os.listdir(sample_dir):\n",
    "    print d"
   ]
  },
  {
   "cell_type": "code",
   "execution_count": 127,
   "metadata": {},
   "outputs": [
    {
     "name": "stdout",
     "output_type": "stream",
     "text": [
      "{'insects': ['../data/esc-50/sample/insects/2-82077-A.ogg', '../data/esc-50/sample/insects/3-110913-D.ogg', '../data/esc-50/sample/insects/4-130891-A.ogg', '../data/esc-50/sample/insects/1-46938-A.ogg', '../data/esc-50/sample/insects/3-110913-A.ogg', '../data/esc-50/sample/insects/1-73585-A.ogg', '../data/esc-50/sample/insects/5-198278-C.ogg', '../data/esc-50/sample/insects/5-195517-A.ogg', '../data/esc-50/sample/insects/4-191246-B.ogg', '../data/esc-50/sample/insects/2-81970-A.ogg', '../data/esc-50/sample/insects/5-198278-B.ogg', '../data/esc-50/sample/insects/2-160128-A.ogg', '../data/esc-50/sample/insects/1-7973-A.ogg', '../data/esc-50/sample/insects/1-17585-A.ogg', '../data/esc-50/sample/insects/5-233787-A.ogg', '../data/esc-50/sample/insects/2-81970-C.ogg', '../data/esc-50/sample/insects/3-104761-A.ogg', '../data/esc-50/sample/insects/2-99955-A.ogg', '../data/esc-50/sample/insects/3-105236-A.ogg', '../data/esc-50/sample/insects/5-194932-A.ogg', '../data/esc-50/sample/insects/1-19501-A.ogg', '../data/esc-50/sample/insects/2-99955-C.ogg', '../data/esc-50/sample/insects/1-80785-A.ogg', '../data/esc-50/sample/insects/2-81970-B.ogg', '../data/esc-50/sample/insects/5-198278-A.ogg', '../data/esc-50/sample/insects/4-182314-B.ogg', '../data/esc-50/sample/insects/3-110913-C.ogg', '../data/esc-50/sample/insects/4-182314-A.ogg', '../data/esc-50/sample/insects/4-143118-B.ogg', '../data/esc-50/sample/insects/5-197446-A.ogg', '../data/esc-50/sample/insects/3-105235-A.ogg', '../data/esc-50/sample/insects/3-110913-B.ogg', '../data/esc-50/sample/insects/4-143118-A.ogg', '../data/esc-50/sample/insects/3-104761-B.ogg', '../data/esc-50/sample/insects/1-46938-B.ogg', '../data/esc-50/sample/insects/1-75189-A.ogg', '../data/esc-50/sample/insects/4-191246-A.ogg', '../data/esc-50/sample/insects/2-99955-B.ogg'], 'coughing': ['../data/esc-50/sample/coughing/3-151212-A.ogg', '../data/esc-50/sample/coughing/1-52266-A.ogg', '../data/esc-50/sample/coughing/5-207681-A.ogg', '../data/esc-50/sample/coughing/1-30830-A.ogg', '../data/esc-50/sample/coughing/2-108017-A.ogg', '../data/esc-50/sample/coughing/2-87794-A.ogg', '../data/esc-50/sample/coughing/4-152995-A.ogg', '../data/esc-50/sample/coughing/2-123896-A.ogg', '../data/esc-50/sample/coughing/2-85292-A.ogg', '../data/esc-50/sample/coughing/4-171396-A.ogg', '../data/esc-50/sample/coughing/2-87412-A.ogg', '../data/esc-50/sample/coughing/2-87799-A.ogg', '../data/esc-50/sample/coughing/5-251489-A.ogg', '../data/esc-50/sample/coughing/1-19118-A.ogg', '../data/esc-50/sample/coughing/4-155650-B.ogg', '../data/esc-50/sample/coughing/5-178997-A.ogg', '../data/esc-50/sample/coughing/1-53663-A.ogg', '../data/esc-50/sample/coughing/3-125418-A.ogg', '../data/esc-50/sample/coughing/2-98676-A.ogg', '../data/esc-50/sample/coughing/5-204604-A.ogg', '../data/esc-50/sample/coughing/5-208761-A.ogg', '../data/esc-50/sample/coughing/5-184871-A.ogg', '../data/esc-50/sample/coughing/4-177835-A.ogg', '../data/esc-50/sample/coughing/3-145487-A.ogg', '../data/esc-50/sample/coughing/1-19111-A.ogg', '../data/esc-50/sample/coughing/3-132601-A.ogg', '../data/esc-50/sample/coughing/5-211197-A.ogg', '../data/esc-50/sample/coughing/4-154443-A.ogg', '../data/esc-50/sample/coughing/3-146873-A.ogg', '../data/esc-50/sample/coughing/3-149042-A.ogg', '../data/esc-50/sample/coughing/4-155650-A.ogg', '../data/esc-50/sample/coughing/1-63679-A.ogg', '../data/esc-50/sample/coughing/3-142604-A.ogg', '../data/esc-50/sample/coughing/4-157296-A.ogg', '../data/esc-50/sample/coughing/2-87795-A.ogg', '../data/esc-50/sample/coughing/1-52323-A.ogg', '../data/esc-50/sample/coughing/5-209719-A.ogg', '../data/esc-50/sample/coughing/3-151213-A.ogg', '../data/esc-50/sample/coughing/1-58792-A.ogg', '../data/esc-50/sample/coughing/4-169726-A.ogg'], 'laughing': ['../data/esc-50/sample/laughing/2-60791-A.ogg', '../data/esc-50/sample/laughing/1-33658-A.ogg', '../data/esc-50/sample/laughing/3-118487-A.ogg', '../data/esc-50/sample/laughing/5-253534-A.ogg', '../data/esc-50/sample/laughing/5-263775-A.ogg', '../data/esc-50/sample/laughing/1-1791-A.ogg', '../data/esc-50/sample/laughing/3-126113-A.ogg', '../data/esc-50/sample/laughing/4-132816-A.ogg', '../data/esc-50/sample/laughing/4-132803-A.ogg', '../data/esc-50/sample/laughing/1-36164-A.ogg', '../data/esc-50/sample/laughing/5-242932-B.ogg', '../data/esc-50/sample/laughing/1-36164-B.ogg', '../data/esc-50/sample/laughing/2-79775-A.ogg', '../data/esc-50/sample/laughing/5-263775-B.ogg', '../data/esc-50/sample/laughing/1-72695-A.ogg', '../data/esc-50/sample/laughing/3-132747-A.ogg', '../data/esc-50/sample/laughing/4-164243-A.ogg', '../data/esc-50/sample/laughing/4-132810-A.ogg', '../data/esc-50/sample/laughing/5-242932-A.ogg', '../data/esc-50/sample/laughing/2-109759-A.ogg', '../data/esc-50/sample/laughing/1-73123-A.ogg', '../data/esc-50/sample/laughing/3-119459-A.ogg', '../data/esc-50/sample/laughing/3-107123-A.ogg', '../data/esc-50/sample/laughing/1-30043-A.ogg', '../data/esc-50/sample/laughing/3-152997-A.ogg', '../data/esc-50/sample/laughing/3-152912-A.ogg', '../data/esc-50/sample/laughing/4-133674-A.ogg', '../data/esc-50/sample/laughing/3-110536-A.ogg', '../data/esc-50/sample/laughing/2-109759-B.ogg', '../data/esc-50/sample/laughing/2-62226-A.ogg', '../data/esc-50/sample/laughing/5-244526-A.ogg', '../data/esc-50/sample/laughing/1-30039-A.ogg', '../data/esc-50/sample/laughing/4-167571-A.ogg', '../data/esc-50/sample/laughing/4-181599-A.ogg', '../data/esc-50/sample/laughing/4-155670-A.ogg', '../data/esc-50/sample/laughing/5-259514-A.ogg', '../data/esc-50/sample/laughing/2-60794-A.ogg', '../data/esc-50/sample/laughing/2-79769-A.ogg', '../data/esc-50/sample/laughing/5-171118-A.ogg', '../data/esc-50/sample/laughing/2-60795-A.ogg'], 'rooster': ['../data/esc-50/sample/rooster/1-40730-A.ogg', '../data/esc-50/sample/rooster/2-65750-A.ogg', '../data/esc-50/sample/rooster/3-154957-A.ogg', '../data/esc-50/sample/rooster/4-208021-A.ogg', '../data/esc-50/sample/rooster/3-116135-A.ogg', '../data/esc-50/sample/rooster/4-164021-A.ogg', '../data/esc-50/sample/rooster/1-43382-A.ogg', '../data/esc-50/sample/rooster/2-95258-A.ogg', '../data/esc-50/sample/rooster/4-164064-A.ogg', '../data/esc-50/sample/rooster/5-200339-A.ogg', '../data/esc-50/sample/rooster/1-39923-A.ogg', '../data/esc-50/sample/rooster/5-194930-B.ogg', '../data/esc-50/sample/rooster/3-149189-A.ogg', '../data/esc-50/sample/rooster/3-107219-A.ogg', '../data/esc-50/sample/rooster/2-71162-A.ogg', '../data/esc-50/sample/rooster/3-145382-A.ogg', '../data/esc-50/sample/rooster/5-234879-A.ogg', '../data/esc-50/sample/rooster/5-234879-B.ogg', '../data/esc-50/sample/rooster/5-200334-A.ogg', '../data/esc-50/sample/rooster/4-164064-C.ogg', '../data/esc-50/sample/rooster/5-233160-A.ogg', '../data/esc-50/sample/rooster/2-95035-A.ogg', '../data/esc-50/sample/rooster/2-96460-A.ogg', '../data/esc-50/sample/rooster/4-164064-B.ogg', '../data/esc-50/sample/rooster/5-200334-B.ogg', '../data/esc-50/sample/rooster/3-137152-A.ogg', '../data/esc-50/sample/rooster/1-27724-A.ogg', '../data/esc-50/sample/rooster/1-44831-A.ogg', '../data/esc-50/sample/rooster/3-163288-A.ogg', '../data/esc-50/sample/rooster/1-26806-A.ogg', '../data/esc-50/sample/rooster/4-164859-A.ogg', '../data/esc-50/sample/rooster/1-34119-A.ogg', '../data/esc-50/sample/rooster/3-134049-A.ogg', '../data/esc-50/sample/rooster/4-170078-A.ogg', '../data/esc-50/sample/rooster/1-34119-B.ogg', '../data/esc-50/sample/rooster/2-95258-B.ogg', '../data/esc-50/sample/rooster/2-100786-A.ogg', '../data/esc-50/sample/rooster/5-194930-A.ogg']}\n"
     ]
    }
   ],
   "source": [
    "samples_dict = dict()\n",
    "for d in os.listdir(sample_dir):\n",
    "    sample_class_dir = os.path.join(sample_dir, d)\n",
    "    samples_dict[d] = [os.path.join(sample_class_dir, f) for f in os.listdir(sample_class_dir)]\n",
    "print samples_dict"
   ]
  },
  {
   "cell_type": "code",
   "execution_count": 128,
   "metadata": {},
   "outputs": [
    {
     "name": "stdout",
     "output_type": "stream",
     "text": [
      "(500, 13)\n",
      "[[ -4.68614246  12.62423878 -24.97087085   6.03759623 -27.55374851\n",
      "  -11.81426764 -28.00337788 -13.32439396 -27.37921945 -25.95990156\n",
      "  -31.98620766 -25.91547358  -5.94544254]\n",
      " [ -4.59113579  16.04960039 -22.70048431  13.46216773 -21.45153629\n",
      "   -0.65244403 -20.716485    -5.09580855 -22.62683579 -18.44728867\n",
      "  -23.76891668 -11.43795649   5.51002662]]\n",
      "[ -3.72910268  18.22257038 -15.26249055  10.25543244 -15.56550214\n",
      "  -6.17518359 -12.04130746  -0.9019003  -19.86614078 -17.49182495\n",
      " -18.15052032 -10.77752176  -0.78273398]\n"
     ]
    }
   ],
   "source": [
    "sample_insect = samples_dict.get('insects')[0]\n",
    "ts, sr = librosa.load(sample_insect)\n",
    "\n",
    "mfcc_feat_insect = mfcc(ts, sr)\n",
    "# fbank_feat = logfbank(sig,rate)\n",
    "\n",
    "print mfcc_feat_insect.shape\n",
    "\n",
    "print(mfcc_feat_insect[1:3,:])\n",
    "\n",
    "print np.mean(mfcc_feat_insect, axis=0)"
   ]
  },
  {
   "cell_type": "code",
   "execution_count": 129,
   "metadata": {
    "collapsed": true
   },
   "outputs": [],
   "source": [
    "def extract_feature(file_name):\n",
    "    X, sample_rate = librosa.load(file_name)\n",
    "    stft = np.abs(librosa.stft(X))\n",
    "    mfccs = np.mean(librosa.feature.mfcc(y=X, sr=sample_rate, n_mfcc=40).T,axis=0)\n",
    "    chroma = np.mean(librosa.feature.chroma_stft(S=stft, sr=sample_rate).T,axis=0)\n",
    "    mel = np.mean(librosa.feature.melspectrogram(X, sr=sample_rate).T,axis=0)\n",
    "    contrast = np.mean(librosa.feature.spectral_contrast(S=stft, sr=sample_rate).T,axis=0)\n",
    "    tonnetz = np.mean(librosa.feature.tonnetz(y=librosa.effects.harmonic(X), sr=sample_rate).T,axis=0)\n",
    "    return mfccs,chroma,mel,contrast,tonnetz"
   ]
  },
  {
   "cell_type": "code",
   "execution_count": 130,
   "metadata": {},
   "outputs": [],
   "source": [
    "features = np.empty((0,193))\n",
    "for k, v in samples_dict.iteritems():\n",
    "    if k not in ['insects', 'rooster']:\n",
    "        continue\n",
    "    for i in v:\n",
    "        mfccs, chroma, mel, contrast,tonnetz = extract_feature(i)\n",
    "        ext_features = np.hstack([mfccs,chroma,mel,contrast,tonnetz])\n",
    "        features = np.vstack([features,ext_features])\n",
    "features = np.array(features)"
   ]
  },
  {
   "cell_type": "code",
   "execution_count": 131,
   "metadata": {},
   "outputs": [
    {
     "name": "stdout",
     "output_type": "stream",
     "text": [
      "(76, 193)\n",
      "[[ -2.71008667e+02   1.11177134e+02  -2.66969894e+01 ...,  -2.03544718e-01\n",
      "    5.38986268e-02   1.56129083e-02]\n",
      " [ -1.56407503e+02   9.77251668e+01  -1.07476905e+01 ...,  -2.87953000e-02\n",
      "    1.67113321e-02  -1.69867642e-02]\n",
      " [ -3.29452760e+02   8.12510017e+01  -1.36530716e+01 ...,   5.45740443e-02\n",
      "    3.79722129e-03   1.49923403e-03]\n",
      " ..., \n",
      " [ -3.63268630e+02   6.90050961e+01  -3.72877700e+01 ...,   5.50453641e-02\n",
      "    1.28585464e-02   2.33410783e-02]\n",
      " [ -3.84840993e+02   1.69023967e+01  -5.72822369e+01 ...,  -2.54607864e-02\n",
      "    2.36396857e-03   1.05883214e-02]\n",
      " [ -4.02324001e+02   5.29785707e+01  -1.98304410e+01 ...,   1.55105148e-02\n",
      "    2.81266963e-04   2.88463003e-03]]\n"
     ]
    }
   ],
   "source": [
    "print features.shape\n",
    "print features"
   ]
  },
  {
   "cell_type": "code",
   "execution_count": 132,
   "metadata": {},
   "outputs": [
    {
     "name": "stdout",
     "output_type": "stream",
     "text": [
      "[1 1 1 1 1 1 1 1 1 1 1 1 1 1 1 1 1 1 1 1 1 1 1 1 1 1 1 1 1 1 1 1 1 1 1 1 1\n",
      " 1 1 1 0 1 1 1 1 1 1 1 1 1 1 1 1 1 1 1 1 1 1 1 1 1 1 1 1 1 1 1 1 1 1 1 1 1\n",
      " 1 1]\n"
     ]
    }
   ],
   "source": [
    "km = KMeans(2).fit(features)\n",
    "# cluster_centers_indices = af.cluster_centers_indices_\n",
    "labels = km.labels_\n",
    "print labels"
   ]
  },
  {
   "cell_type": "code",
   "execution_count": 133,
   "metadata": {},
   "outputs": [
    {
     "name": "stdout",
     "output_type": "stream",
     "text": [
      "[ 0  2  1  1  1  2  2  7  1  1  2  1  1  1  7  7  1  7  1  1  7  7  3  1  2\n",
      "  1  1  1  1  2  1  1  1  1  1  2  2  8  7  9  4  5  8  7  9  7  7  9  7  5\n",
      "  6  8  8  9  7  7  5  7  7  8  7  8  9  7  7  7  7 10 11  8  7  7  8  7  7\n",
      "  7]\n"
     ]
    }
   ],
   "source": [
    "af = AffinityPropagation(damping=0.5, preference=None).fit(features)\n",
    "cluster_centers_indices = af.cluster_centers_indices_\n",
    "labels = af.labels_\n",
    "print labels"
   ]
  },
  {
   "cell_type": "code",
   "execution_count": 134,
   "metadata": {},
   "outputs": [
    {
     "name": "stdout",
     "output_type": "stream",
     "text": [
      "[0 0 0 0 0 1 0 0 0 1 0 0 0 0 1 0 0 0 0 0 0 0 0 0 1 0 0 0 0 0 0 0 0 1 1 0 0\n",
      " 0 1 0 0 0 0 1 0 0 0 1 1 1 0 0 0 0 0 0 0 0 0 1 1 0 0 0 1 0 0 0 0 0 0 0 0 0\n",
      " 0 0]\n"
     ]
    }
   ],
   "source": [
    "spectral = SpectralClustering(2).fit(features)\n",
    "labels = spectral.labels_\n",
    "print labels"
   ]
  },
  {
   "cell_type": "code",
   "execution_count": 135,
   "metadata": {},
   "outputs": [],
   "source": [
    "from sklearn.decomposition import PCA\n",
    "\n",
    "pca = PCA(n_components=2)\n",
    "X_r = pca.fit(features).transform(features)"
   ]
  },
  {
   "cell_type": "code",
   "execution_count": 136,
   "metadata": {},
   "outputs": [
    {
     "name": "stdout",
     "output_type": "stream",
     "text": [
      "(76, 2)\n",
      "(76,)\n"
     ]
    }
   ],
   "source": [
    "print X_r.shape\n",
    "labels = ['insects', 'rooster']\n",
    "y = np.array([0] * 38 + [1] * 38)\n",
    "print y.shape"
   ]
  },
  {
   "cell_type": "code",
   "execution_count": 137,
   "metadata": {},
   "outputs": [
    {
     "name": "stdout",
     "output_type": "stream",
     "text": [
      "explained variance ratio (first two components): [ 0.50755213  0.19593257]\n"
     ]
    },
    {
     "data": {
      "image/png": "[encoded data removed]",
      "text/plain": [
       "<matplotlib.figure.Figure at 0x7f2b56c3f5d0>"
      ]
     },
     "metadata": {},
     "output_type": "display_data"
    }
   ],
   "source": [
    "import matplotlib.pyplot as plt\n",
    "\n",
    "# Percentage of variance explained for each components\n",
    "print('explained variance ratio (first two components): %s'\n",
    "      % str(pca.explained_variance_ratio_))\n",
    "\n",
    "plt.figure()\n",
    "colors = ['navy', 'darkorange']\n",
    "lw = 2\n",
    "\n",
    "for color, i, target_name in zip(colors, [0, 1], labels):\n",
    "    plt.scatter(X_r[y == i, 0], X_r[y == i, 1], color=color, alpha=.8, lw=lw,\n",
    "                label=target_name)\n",
    "plt.legend(loc='best', shadow=False, scatterpoints=1)\n",
    "plt.title('PCA of IRIS dataset')\n",
    "plt.show()"
   ]
  },
  {
   "cell_type": "code",
   "execution_count": null,
   "metadata": {
    "collapsed": true
   },
   "outputs": [],
   "source": []
  },
  {
   "cell_type": "code",
   "execution_count": null,
   "metadata": {
    "collapsed": true
   },
   "outputs": [],
   "source": []
  }
 ],
 "metadata": {
  "kernelspec": {
   "display_name": "Python 2",
   "language": "python",
   "name": "python2"
  },
  "language_info": {
   "codemirror_mode": {
    "name": "ipython",
    "version": 2
   },
   "file_extension": ".py",
   "mimetype": "text/x-python",
   "name": "python",
   "nbconvert_exporter": "python",
   "pygments_lexer": "ipython2",
   "version": "2.7.13"
  }
 },
 "nbformat": 4,
 "nbformat_minor": 2
}
